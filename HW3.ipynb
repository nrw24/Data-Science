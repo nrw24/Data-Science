{
 "cells": [
  {
   "cell_type": "code",
   "execution_count": 48,
   "metadata": {
    "scrolled": true
   },
   "outputs": [
    {
     "name": "stdout",
     "output_type": "stream",
     "text": [
      "The shape is: (193, 6)\n",
      "26\n",
      "28\n",
      "15\n"
     ]
    }
   ],
   "source": [
    "''' \n",
    "Author: Navado (Romaine) Wray\n",
    "Date: 2020-02-10\n",
    "CS301-006, Professor Watson\n",
    "HW03 Solution\n",
    "\n",
    "Functions that create a pandas Dataframe in order to retrieve\n",
    "the outliers and deviations of specific columns within the dataframe.\n",
    "\n",
    "Link to the github repo: https://github.com/nrw24/Data-Science\n",
    "Link to the relevant git commit: https://github.com/nrw24/Data-Science/blob/master/HW3.ipynb\n",
    "name of the branch: master\n",
    "\n",
    "'''\n",
    "\n",
    "import pandas as p\n",
    "\n",
    "def data_reader(path):\n",
    "    '''Read the csv file and turn it into a pandas DataFrame. Print the shape of the dataframe.'''\n",
    "    try:\n",
    "        df = p.read_csv(path)\n",
    "        print(\"The shape is: \" + str(df.shape))\n",
    "        return df\n",
    "    \n",
    "    except Exception as e:\n",
    "        print(\"Error during reading, please try again...\")\n",
    "        return None\n",
    "\n",
    "def get_num_outliers(df, col):\n",
    "    num_outliers = 0\n",
    "    column = df[col]\n",
    "    \n",
    "    q1 = column.quantile(.25)\n",
    "    q3 = column.quantile(.75)\n",
    "    iqr = q3 - q1\n",
    "    low = q1 - 1.5 * iqr\n",
    "    high = q3 + 1.5 * iqr\n",
    "    \n",
    "    column = df.loc[(column < low) | (column > high)]\n",
    "    num_outliers = len(column)\n",
    "    \n",
    "    return num_outliers\n",
    "\n",
    "def get_num_deviants(df, col, multiplier):\n",
    "    column = df[col]\n",
    "    mean = column.mean()\n",
    "    std = column.std()\n",
    "    \n",
    "    high = mean + (int(multiplier) * std)\n",
    "    low = mean - (int(multiplier) * std)\n",
    "    \n",
    "    deviants = len(df.loc[(column < low) | (column > high) ])\n",
    "    \n",
    "    return deviants\n",
    "\n",
    "df = data_reader(r\"C:\\Users\\navad\\Documents\\CS 301\\HW3\\drinks.csv\")\n",
    "\n",
    "print(get_num_outliers(df, 'wine_servings'))\n",
    "print(get_num_deviants(df, 'wine_servings', '1'))\n",
    "print(get_num_deviants(df, 'wine_servings', '2'))\n"
   ]
  },
  {
   "cell_type": "code",
   "execution_count": null,
   "metadata": {},
   "outputs": [],
   "source": []
  },
  {
   "cell_type": "code",
   "execution_count": null,
   "metadata": {},
   "outputs": [],
   "source": []
  }
 ],
 "metadata": {
  "kernelspec": {
   "display_name": "Python 3",
   "language": "python",
   "name": "python3"
  },
  "language_info": {
   "codemirror_mode": {
    "name": "ipython",
    "version": 3
   },
   "file_extension": ".py",
   "mimetype": "text/x-python",
   "name": "python",
   "nbconvert_exporter": "python",
   "pygments_lexer": "ipython3",
   "version": "3.7.4"
  }
 },
 "nbformat": 4,
 "nbformat_minor": 2
}
