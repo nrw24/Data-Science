{
 "cells": [
  {
   "cell_type": "code",
   "execution_count": 31,
   "metadata": {},
   "outputs": [],
   "source": [
    "''' \n",
    "Author: Navado (Romaine) Wray\n",
    "Date: 2020-02-10\n",
    "CS301-006, Professor Watson\n",
    "HW04 Solution\n",
    "\n",
    "Description: Functions that gets percentage of empty values, loads DataFrame with a new continent based on the country.\n",
    "Using the dataframe we get important statisitics such as death totals, number of suspected cases \n",
    "and total confirmed cases in each continent\n",
    "\n",
    "Link to the github repo: https://github.com/nrw24/Data-Science\n",
    "Link to the relevant git commit: https://github.com/nrw24/Data-Science/blob/master/HW4.ipynb\n",
    "name of the branch: master\n",
    "\n",
    "'''\n",
    "import pandas as pd\n",
    "import numpy as np\n",
    "\n",
    "def get_percent_nans(df, s):\n",
    "    df = pd.read_csv(\"C:/Users/navad/Documents/CS 301/HW4/2019_nCoV_20200121_20200206.csv\")\n",
    "    col = df[s]\n",
    "    percentage = col.isna().sum()/len(col)\n",
    "    return percentage * 100\n"
   ]
  },
  {
   "cell_type": "code",
   "execution_count": 27,
   "metadata": {},
   "outputs": [
    {
     "name": "stdout",
     "output_type": "stream",
     "text": [
      "The country with the highest number of deaths is Mainland China\n",
      "The country with the highest number of suspects is Hong Kong\n",
      "The country/region with the second largest average number of recovered cases is Mainland China\n",
      "Asia: 304958\n",
      "Europe: 421\n",
      "Australia: 238\n",
      "North America: 273\n",
      "Africa: 1\n",
      "South America: 0\n"
     ]
    }
   ],
   "source": [
    "def get_continent(country):\n",
    "    continents = {\"Europe\" : [\"UK\", \"Sweden\", \"Spain\", \"Russia\", \"Germany\", \"Finland\", \"Belgium\", \"France\", \"Italy\"], \"Asia\" : [\"Mainland China\", \"Japan\", \"South Korea\", \"Thailand\", \"Singapore\", \"Hong Kong\", \"Malaysia\", \"Taiwan\", \"Vietnam\", \"India\", \"Philippines\", \"Macau\", \"Nepal\", \"Cambodia\", \"Sri Lanka\", \"United Arab Emirates\"], \"North America\" : [\"Mexico\", \"United States\", \"Canada\"], \"South America\" : [\"Columbia\", \"Brazil\"], \"Australia\" : [\"Australia\"], \"Africa\": [\"Ivory Coast\"] }\n",
    "    continent = \"\"\n",
    "    for continent in continents:\n",
    "        continent_arr = continents[continent]\n",
    "        for place in continent_arr:\n",
    "            if(place == country):\n",
    "                return continent\n",
    "    return continent\n",
    "\n",
    "df = pd.read_csv(\"C:/Users/navad/Documents/CS 301/HW4/2019_nCoV_20200121_20200206.csv\")\n",
    "country_max_deaths = df.loc[df[\"Death\"].idxmax()]\n",
    "print(\"The country with the highest number of deaths is \" + country_max_deaths[\"Country/Region\"])\n",
    "\n",
    "country_max_suspects = df.loc[df[\"Suspected\"].idxmax()]\n",
    "print(\"The country with the highest number of suspects is \" + country_max_suspects[\"Country/Region\"])\n",
    "\n",
    "second = np.sort(df[\"Recovered\"].dropna().values)\n",
    "country_recovery = df.loc[df[\"Recovered\"] == second[-2]]\n",
    "country = country_recovery.iloc[0][1]\n",
    "\n",
    "print(\"The country/region with the second largest average number of recovered cases is \" + country)\n",
    "\n",
    "total_confirmed = {}\n",
    "df[\"Continent\"] = df.apply(lambda x: get_continent(x[\"Country/Region\"]), axis=1)\n",
    "for continent in df[\"Continent\"].unique():\n",
    "    data = df.loc[df['Continent'] == continent]\n",
    "    data = data[\"Confirmed\"]\n",
    "    total_confirmed[continent] = int(data.sum())\n",
    "\n",
    "for key in total_confirmed:\n",
    "    print(key + \": \" + str(total_confirmed[key]))"
   ]
  },
  {
   "cell_type": "code",
   "execution_count": null,
   "metadata": {},
   "outputs": [],
   "source": []
  }
 ],
 "metadata": {
  "kernelspec": {
   "display_name": "Python 3",
   "language": "python",
   "name": "python3"
  }
 },
 "nbformat": 4,
 "nbformat_minor": 2
}
